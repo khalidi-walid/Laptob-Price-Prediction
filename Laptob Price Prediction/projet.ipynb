{
  "metadata": {
    "kernelspec": {
      "language": "python",
      "display_name": "Python 3",
      "name": "python3"
    },
    "language_info": {
      "pygments_lexer": "ipython3",
      "nbconvert_exporter": "python",
      "version": "3.6.4",
      "file_extension": ".py",
      "codemirror_mode": {
        "name": "ipython",
        "version": 3
      },
      "name": "python",
      "mimetype": "text/x-python"
    },
    "colab": {
      "provenance": []
    }
  },
  "nbformat_minor": 0,
  "nbformat": 4,
  "cells": [
    {
      "cell_type": "markdown",
      "source": [
        "# Practical Example"
      ],
      "metadata": {
        "papermill": {
          "duration": 0.025709,
          "end_time": "2020-10-05T01:18:49.589211",
          "exception": false,
          "start_time": "2020-10-05T01:18:49.563502",
          "status": "completed"
        },
        "tags": [],
        "id": "2pAcVO2PA2k1"
      }
    },
    {
      "cell_type": "code",
      "source": [
        "import pandas as pd\n",
        "import numpy as np\n",
        "from tqdm import tqdm\n",
        "from keras.preprocessing.text import Tokenizer\n",
        "tqdm.pandas(desc=\"progress-bar\")\n",
        "from gensim.models import Doc2Vec\n",
        "from sklearn import utils\n",
        "from sklearn.model_selection import train_test_split\n",
        "from tensorflow.keras.preprocessing.sequence import pad_sequences\n",
        "import gensim\n",
        "from sklearn.linear_model import LogisticRegression\n",
        "from gensim.models.doc2vec import TaggedDocument\n",
        "import re\n",
        "import seaborn as sns\n",
        "import matplotlib.pyplot as plt"
      ],
      "metadata": {
        "_cell_guid": "b1076dfc-b9ad-4769-8c92-a6c4dae69d19",
        "_uuid": "8f2839f25d086af736a60e9eeb907d3b93b6e0e5",
        "execution": {
          "iopub.execute_input": "2020-10-05T01:18:49.648447Z",
          "iopub.status.busy": "2020-10-05T01:18:49.647785Z",
          "iopub.status.idle": "2020-10-05T01:18:57.011155Z",
          "shell.execute_reply": "2020-10-05T01:18:57.010603Z"
        },
        "papermill": {
          "duration": 7.396026,
          "end_time": "2020-10-05T01:18:57.011338",
          "exception": false,
          "start_time": "2020-10-05T01:18:49.615312",
          "status": "completed"
        },
        "tags": [],
        "trusted": true,
        "id": "d0u0foiEA2k2"
      },
      "execution_count": 99,
      "outputs": []
    },
    {
      "cell_type": "markdown",
      "source": [
        "Read Dataset"
      ],
      "metadata": {
        "papermill": {
          "duration": 0.026202,
          "end_time": "2020-10-05T01:18:57.065069",
          "exception": false,
          "start_time": "2020-10-05T01:18:57.038867",
          "status": "completed"
        },
        "tags": [],
        "id": "xSWcrpz-A2k4"
      }
    },
    {
      "cell_type": "code",
      "source": [
        "df = pd.read_csv('/content/all-data.csv',delimiter=',',encoding='latin-1')\n",
        "df.head()"
      ],
      "metadata": {
        "execution": {
          "iopub.execute_input": "2020-10-05T01:18:57.125178Z",
          "iopub.status.busy": "2020-10-05T01:18:57.12449Z",
          "iopub.status.idle": "2020-10-05T01:18:57.180713Z",
          "shell.execute_reply": "2020-10-05T01:18:57.181214Z"
        },
        "papermill": {
          "duration": 0.08967,
          "end_time": "2020-10-05T01:18:57.181376",
          "exception": false,
          "start_time": "2020-10-05T01:18:57.091706",
          "status": "completed"
        },
        "tags": [],
        "trusted": true,
        "colab": {
          "base_uri": "https://localhost:8080/",
          "height": 206
        },
        "id": "CYBY2wanA2k4",
        "outputId": "ca4b699d-0b8d-49df-9ceb-63650130fb1a"
      },
      "execution_count": 100,
      "outputs": [
        {
          "output_type": "execute_result",
          "data": {
            "text/plain": [
              "    neutral  \\\n",
              "0   neutral   \n",
              "1  negative   \n",
              "2  positive   \n",
              "3  positive   \n",
              "4  positive   \n",
              "\n",
              "  According to Gran , the company has no plans to move all production to Russia , although that is where the company is growing .  \n",
              "0  Technopolis plans to develop in stages an area...                                                                               \n",
              "1  The international electronic industry company ...                                                                               \n",
              "2  With the new production plant the company woul...                                                                               \n",
              "3  According to the company 's updated strategy f...                                                                               \n",
              "4  FINANCING OF ASPOCOMP 'S GROWTH Aspocomp is ag...                                                                               "
            ],
            "text/html": [
              "\n",
              "  <div id=\"df-f77f3d65-5ff1-42bb-9bdc-f4d57ff3cd98\">\n",
              "    <div class=\"colab-df-container\">\n",
              "      <div>\n",
              "<style scoped>\n",
              "    .dataframe tbody tr th:only-of-type {\n",
              "        vertical-align: middle;\n",
              "    }\n",
              "\n",
              "    .dataframe tbody tr th {\n",
              "        vertical-align: top;\n",
              "    }\n",
              "\n",
              "    .dataframe thead th {\n",
              "        text-align: right;\n",
              "    }\n",
              "</style>\n",
              "<table border=\"1\" class=\"dataframe\">\n",
              "  <thead>\n",
              "    <tr style=\"text-align: right;\">\n",
              "      <th></th>\n",
              "      <th>neutral</th>\n",
              "      <th>According to Gran , the company has no plans to move all production to Russia , although that is where the company is growing .</th>\n",
              "    </tr>\n",
              "  </thead>\n",
              "  <tbody>\n",
              "    <tr>\n",
              "      <th>0</th>\n",
              "      <td>neutral</td>\n",
              "      <td>Technopolis plans to develop in stages an area...</td>\n",
              "    </tr>\n",
              "    <tr>\n",
              "      <th>1</th>\n",
              "      <td>negative</td>\n",
              "      <td>The international electronic industry company ...</td>\n",
              "    </tr>\n",
              "    <tr>\n",
              "      <th>2</th>\n",
              "      <td>positive</td>\n",
              "      <td>With the new production plant the company woul...</td>\n",
              "    </tr>\n",
              "    <tr>\n",
              "      <th>3</th>\n",
              "      <td>positive</td>\n",
              "      <td>According to the company 's updated strategy f...</td>\n",
              "    </tr>\n",
              "    <tr>\n",
              "      <th>4</th>\n",
              "      <td>positive</td>\n",
              "      <td>FINANCING OF ASPOCOMP 'S GROWTH Aspocomp is ag...</td>\n",
              "    </tr>\n",
              "  </tbody>\n",
              "</table>\n",
              "</div>\n",
              "      <button class=\"colab-df-convert\" onclick=\"convertToInteractive('df-f77f3d65-5ff1-42bb-9bdc-f4d57ff3cd98')\"\n",
              "              title=\"Convert this dataframe to an interactive table.\"\n",
              "              style=\"display:none;\">\n",
              "        \n",
              "  <svg xmlns=\"http://www.w3.org/2000/svg\" height=\"24px\"viewBox=\"0 0 24 24\"\n",
              "       width=\"24px\">\n",
              "    <path d=\"M0 0h24v24H0V0z\" fill=\"none\"/>\n",
              "    <path d=\"M18.56 5.44l.94 2.06.94-2.06 2.06-.94-2.06-.94-.94-2.06-.94 2.06-2.06.94zm-11 1L8.5 8.5l.94-2.06 2.06-.94-2.06-.94L8.5 2.5l-.94 2.06-2.06.94zm10 10l.94 2.06.94-2.06 2.06-.94-2.06-.94-.94-2.06-.94 2.06-2.06.94z\"/><path d=\"M17.41 7.96l-1.37-1.37c-.4-.4-.92-.59-1.43-.59-.52 0-1.04.2-1.43.59L10.3 9.45l-7.72 7.72c-.78.78-.78 2.05 0 2.83L4 21.41c.39.39.9.59 1.41.59.51 0 1.02-.2 1.41-.59l7.78-7.78 2.81-2.81c.8-.78.8-2.07 0-2.86zM5.41 20L4 18.59l7.72-7.72 1.47 1.35L5.41 20z\"/>\n",
              "  </svg>\n",
              "      </button>\n",
              "      \n",
              "  <style>\n",
              "    .colab-df-container {\n",
              "      display:flex;\n",
              "      flex-wrap:wrap;\n",
              "      gap: 12px;\n",
              "    }\n",
              "\n",
              "    .colab-df-convert {\n",
              "      background-color: #E8F0FE;\n",
              "      border: none;\n",
              "      border-radius: 50%;\n",
              "      cursor: pointer;\n",
              "      display: none;\n",
              "      fill: #1967D2;\n",
              "      height: 32px;\n",
              "      padding: 0 0 0 0;\n",
              "      width: 32px;\n",
              "    }\n",
              "\n",
              "    .colab-df-convert:hover {\n",
              "      background-color: #E2EBFA;\n",
              "      box-shadow: 0px 1px 2px rgba(60, 64, 67, 0.3), 0px 1px 3px 1px rgba(60, 64, 67, 0.15);\n",
              "      fill: #174EA6;\n",
              "    }\n",
              "\n",
              "    [theme=dark] .colab-df-convert {\n",
              "      background-color: #3B4455;\n",
              "      fill: #D2E3FC;\n",
              "    }\n",
              "\n",
              "    [theme=dark] .colab-df-convert:hover {\n",
              "      background-color: #434B5C;\n",
              "      box-shadow: 0px 1px 3px 1px rgba(0, 0, 0, 0.15);\n",
              "      filter: drop-shadow(0px 1px 2px rgba(0, 0, 0, 0.3));\n",
              "      fill: #FFFFFF;\n",
              "    }\n",
              "  </style>\n",
              "\n",
              "      <script>\n",
              "        const buttonEl =\n",
              "          document.querySelector('#df-f77f3d65-5ff1-42bb-9bdc-f4d57ff3cd98 button.colab-df-convert');\n",
              "        buttonEl.style.display =\n",
              "          google.colab.kernel.accessAllowed ? 'block' : 'none';\n",
              "\n",
              "        async function convertToInteractive(key) {\n",
              "          const element = document.querySelector('#df-f77f3d65-5ff1-42bb-9bdc-f4d57ff3cd98');\n",
              "          const dataTable =\n",
              "            await google.colab.kernel.invokeFunction('convertToInteractive',\n",
              "                                                     [key], {});\n",
              "          if (!dataTable) return;\n",
              "\n",
              "          const docLinkHtml = 'Like what you see? Visit the ' +\n",
              "            '<a target=\"_blank\" href=https://colab.research.google.com/notebooks/data_table.ipynb>data table notebook</a>'\n",
              "            + ' to learn more about interactive tables.';\n",
              "          element.innerHTML = '';\n",
              "          dataTable['output_type'] = 'display_data';\n",
              "          await google.colab.output.renderOutput(dataTable, element);\n",
              "          const docLink = document.createElement('div');\n",
              "          docLink.innerHTML = docLinkHtml;\n",
              "          element.appendChild(docLink);\n",
              "        }\n",
              "      </script>\n",
              "    </div>\n",
              "  </div>\n",
              "  "
            ]
          },
          "metadata": {},
          "execution_count": 100
        }
      ]
    },
    {
      "cell_type": "code",
      "source": [
        "df = df.rename(columns={'neutral':'sentiment','According to Gran , the company has no plans to move all production to Russia , although that is where the company is growing .':'Message'})"
      ],
      "metadata": {
        "trusted": true,
        "id": "2846WIyPA2k5"
      },
      "execution_count": 101,
      "outputs": []
    },
    {
      "cell_type": "code",
      "source": [
        "df.shape"
      ],
      "metadata": {
        "_cell_guid": "79c7e3d0-c299-4dcb-8224-4455121ee9b0",
        "_uuid": "d629ff2d2480ee46fbb7e2d37f6b5fab8052498a",
        "execution": {
          "iopub.execute_input": "2020-10-05T01:18:57.240538Z",
          "iopub.status.busy": "2020-10-05T01:18:57.239589Z",
          "iopub.status.idle": "2020-10-05T01:18:57.24335Z",
          "shell.execute_reply": "2020-10-05T01:18:57.242794Z"
        },
        "papermill": {
          "duration": 0.03518,
          "end_time": "2020-10-05T01:18:57.243466",
          "exception": false,
          "start_time": "2020-10-05T01:18:57.208286",
          "status": "completed"
        },
        "tags": [],
        "trusted": true,
        "colab": {
          "base_uri": "https://localhost:8080/"
        },
        "id": "bpA7WihYA2k6",
        "outputId": "2d0eb97c-dbfc-4993-96f1-3bba50861e4e"
      },
      "execution_count": 102,
      "outputs": [
        {
          "output_type": "execute_result",
          "data": {
            "text/plain": [
              "(4845, 2)"
            ]
          },
          "metadata": {},
          "execution_count": 102
        }
      ]
    },
    {
      "cell_type": "code",
      "source": [
        "df.index = range(4845)\n",
        "df['Message'].apply(lambda x: len(x.split(' '))).sum()\n",
        "df"
      ],
      "metadata": {
        "execution": {
          "iopub.execute_input": "2020-10-05T01:18:57.313889Z",
          "iopub.status.busy": "2020-10-05T01:18:57.313076Z",
          "iopub.status.idle": "2020-10-05T01:18:57.316946Z",
          "shell.execute_reply": "2020-10-05T01:18:57.317401Z"
        },
        "papermill": {
          "duration": 0.046333,
          "end_time": "2020-10-05T01:18:57.317547",
          "exception": false,
          "start_time": "2020-10-05T01:18:57.271214",
          "status": "completed"
        },
        "tags": [],
        "trusted": true,
        "colab": {
          "base_uri": "https://localhost:8080/",
          "height": 424
        },
        "id": "lsjqgF9CA2k6",
        "outputId": "7713efcc-1108-4f3f-8476-dc299edbf273"
      },
      "execution_count": 103,
      "outputs": [
        {
          "output_type": "execute_result",
          "data": {
            "text/plain": [
              "     sentiment                                            Message\n",
              "0      neutral  Technopolis plans to develop in stages an area...\n",
              "1     negative  The international electronic industry company ...\n",
              "2     positive  With the new production plant the company woul...\n",
              "3     positive  According to the company 's updated strategy f...\n",
              "4     positive  FINANCING OF ASPOCOMP 'S GROWTH Aspocomp is ag...\n",
              "...        ...                                                ...\n",
              "4840  negative  LONDON MarketWatch -- Share prices ended lower...\n",
              "4841   neutral  Rinkuskiai 's beer sales fell by 6.5 per cent ...\n",
              "4842  negative  Operating profit fell to EUR 35.4 mn from EUR ...\n",
              "4843  negative  Net sales of the Paper segment decreased to EU...\n",
              "4844  negative  Sales in Finland decreased by 10.5 % in Januar...\n",
              "\n",
              "[4845 rows x 2 columns]"
            ],
            "text/html": [
              "\n",
              "  <div id=\"df-f4abf6bf-1049-4f59-9d19-4f9e59a1f4a1\">\n",
              "    <div class=\"colab-df-container\">\n",
              "      <div>\n",
              "<style scoped>\n",
              "    .dataframe tbody tr th:only-of-type {\n",
              "        vertical-align: middle;\n",
              "    }\n",
              "\n",
              "    .dataframe tbody tr th {\n",
              "        vertical-align: top;\n",
              "    }\n",
              "\n",
              "    .dataframe thead th {\n",
              "        text-align: right;\n",
              "    }\n",
              "</style>\n",
              "<table border=\"1\" class=\"dataframe\">\n",
              "  <thead>\n",
              "    <tr style=\"text-align: right;\">\n",
              "      <th></th>\n",
              "      <th>sentiment</th>\n",
              "      <th>Message</th>\n",
              "    </tr>\n",
              "  </thead>\n",
              "  <tbody>\n",
              "    <tr>\n",
              "      <th>0</th>\n",
              "      <td>neutral</td>\n",
              "      <td>Technopolis plans to develop in stages an area...</td>\n",
              "    </tr>\n",
              "    <tr>\n",
              "      <th>1</th>\n",
              "      <td>negative</td>\n",
              "      <td>The international electronic industry company ...</td>\n",
              "    </tr>\n",
              "    <tr>\n",
              "      <th>2</th>\n",
              "      <td>positive</td>\n",
              "      <td>With the new production plant the company woul...</td>\n",
              "    </tr>\n",
              "    <tr>\n",
              "      <th>3</th>\n",
              "      <td>positive</td>\n",
              "      <td>According to the company 's updated strategy f...</td>\n",
              "    </tr>\n",
              "    <tr>\n",
              "      <th>4</th>\n",
              "      <td>positive</td>\n",
              "      <td>FINANCING OF ASPOCOMP 'S GROWTH Aspocomp is ag...</td>\n",
              "    </tr>\n",
              "    <tr>\n",
              "      <th>...</th>\n",
              "      <td>...</td>\n",
              "      <td>...</td>\n",
              "    </tr>\n",
              "    <tr>\n",
              "      <th>4840</th>\n",
              "      <td>negative</td>\n",
              "      <td>LONDON MarketWatch -- Share prices ended lower...</td>\n",
              "    </tr>\n",
              "    <tr>\n",
              "      <th>4841</th>\n",
              "      <td>neutral</td>\n",
              "      <td>Rinkuskiai 's beer sales fell by 6.5 per cent ...</td>\n",
              "    </tr>\n",
              "    <tr>\n",
              "      <th>4842</th>\n",
              "      <td>negative</td>\n",
              "      <td>Operating profit fell to EUR 35.4 mn from EUR ...</td>\n",
              "    </tr>\n",
              "    <tr>\n",
              "      <th>4843</th>\n",
              "      <td>negative</td>\n",
              "      <td>Net sales of the Paper segment decreased to EU...</td>\n",
              "    </tr>\n",
              "    <tr>\n",
              "      <th>4844</th>\n",
              "      <td>negative</td>\n",
              "      <td>Sales in Finland decreased by 10.5 % in Januar...</td>\n",
              "    </tr>\n",
              "  </tbody>\n",
              "</table>\n",
              "<p>4845 rows × 2 columns</p>\n",
              "</div>\n",
              "      <button class=\"colab-df-convert\" onclick=\"convertToInteractive('df-f4abf6bf-1049-4f59-9d19-4f9e59a1f4a1')\"\n",
              "              title=\"Convert this dataframe to an interactive table.\"\n",
              "              style=\"display:none;\">\n",
              "        \n",
              "  <svg xmlns=\"http://www.w3.org/2000/svg\" height=\"24px\"viewBox=\"0 0 24 24\"\n",
              "       width=\"24px\">\n",
              "    <path d=\"M0 0h24v24H0V0z\" fill=\"none\"/>\n",
              "    <path d=\"M18.56 5.44l.94 2.06.94-2.06 2.06-.94-2.06-.94-.94-2.06-.94 2.06-2.06.94zm-11 1L8.5 8.5l.94-2.06 2.06-.94-2.06-.94L8.5 2.5l-.94 2.06-2.06.94zm10 10l.94 2.06.94-2.06 2.06-.94-2.06-.94-.94-2.06-.94 2.06-2.06.94z\"/><path d=\"M17.41 7.96l-1.37-1.37c-.4-.4-.92-.59-1.43-.59-.52 0-1.04.2-1.43.59L10.3 9.45l-7.72 7.72c-.78.78-.78 2.05 0 2.83L4 21.41c.39.39.9.59 1.41.59.51 0 1.02-.2 1.41-.59l7.78-7.78 2.81-2.81c.8-.78.8-2.07 0-2.86zM5.41 20L4 18.59l7.72-7.72 1.47 1.35L5.41 20z\"/>\n",
              "  </svg>\n",
              "      </button>\n",
              "      \n",
              "  <style>\n",
              "    .colab-df-container {\n",
              "      display:flex;\n",
              "      flex-wrap:wrap;\n",
              "      gap: 12px;\n",
              "    }\n",
              "\n",
              "    .colab-df-convert {\n",
              "      background-color: #E8F0FE;\n",
              "      border: none;\n",
              "      border-radius: 50%;\n",
              "      cursor: pointer;\n",
              "      display: none;\n",
              "      fill: #1967D2;\n",
              "      height: 32px;\n",
              "      padding: 0 0 0 0;\n",
              "      width: 32px;\n",
              "    }\n",
              "\n",
              "    .colab-df-convert:hover {\n",
              "      background-color: #E2EBFA;\n",
              "      box-shadow: 0px 1px 2px rgba(60, 64, 67, 0.3), 0px 1px 3px 1px rgba(60, 64, 67, 0.15);\n",
              "      fill: #174EA6;\n",
              "    }\n",
              "\n",
              "    [theme=dark] .colab-df-convert {\n",
              "      background-color: #3B4455;\n",
              "      fill: #D2E3FC;\n",
              "    }\n",
              "\n",
              "    [theme=dark] .colab-df-convert:hover {\n",
              "      background-color: #434B5C;\n",
              "      box-shadow: 0px 1px 3px 1px rgba(0, 0, 0, 0.15);\n",
              "      filter: drop-shadow(0px 1px 2px rgba(0, 0, 0, 0.3));\n",
              "      fill: #FFFFFF;\n",
              "    }\n",
              "  </style>\n",
              "\n",
              "      <script>\n",
              "        const buttonEl =\n",
              "          document.querySelector('#df-f4abf6bf-1049-4f59-9d19-4f9e59a1f4a1 button.colab-df-convert');\n",
              "        buttonEl.style.display =\n",
              "          google.colab.kernel.accessAllowed ? 'block' : 'none';\n",
              "\n",
              "        async function convertToInteractive(key) {\n",
              "          const element = document.querySelector('#df-f4abf6bf-1049-4f59-9d19-4f9e59a1f4a1');\n",
              "          const dataTable =\n",
              "            await google.colab.kernel.invokeFunction('convertToInteractive',\n",
              "                                                     [key], {});\n",
              "          if (!dataTable) return;\n",
              "\n",
              "          const docLinkHtml = 'Like what you see? Visit the ' +\n",
              "            '<a target=\"_blank\" href=https://colab.research.google.com/notebooks/data_table.ipynb>data table notebook</a>'\n",
              "            + ' to learn more about interactive tables.';\n",
              "          element.innerHTML = '';\n",
              "          dataTable['output_type'] = 'display_data';\n",
              "          await google.colab.output.renderOutput(dataTable, element);\n",
              "          const docLink = document.createElement('div');\n",
              "          docLink.innerHTML = docLinkHtml;\n",
              "          element.appendChild(docLink);\n",
              "        }\n",
              "      </script>\n",
              "    </div>\n",
              "  </div>\n",
              "  "
            ]
          },
          "metadata": {},
          "execution_count": 103
        }
      ]
    },
    {
      "cell_type": "code",
      "source": [
        "# sting to numeric\n",
        "sentiment  = {'positive': 0,'neutral': 1,'negative':2} \n",
        "\n",
        "df.sentiment = [sentiment[item] for item in df.sentiment] \n",
        "print(df)"
      ],
      "metadata": {
        "trusted": true,
        "colab": {
          "base_uri": "https://localhost:8080/"
        },
        "id": "Ydv7WzFRA2k7",
        "outputId": "d9ffe81e-b9e1-4ed6-df6e-92c1cf197ef1"
      },
      "execution_count": 104,
      "outputs": [
        {
          "output_type": "stream",
          "name": "stdout",
          "text": [
            "      sentiment                                            Message\n",
            "0             1  Technopolis plans to develop in stages an area...\n",
            "1             2  The international electronic industry company ...\n",
            "2             0  With the new production plant the company woul...\n",
            "3             0  According to the company 's updated strategy f...\n",
            "4             0  FINANCING OF ASPOCOMP 'S GROWTH Aspocomp is ag...\n",
            "...         ...                                                ...\n",
            "4840          2  LONDON MarketWatch -- Share prices ended lower...\n",
            "4841          1  Rinkuskiai 's beer sales fell by 6.5 per cent ...\n",
            "4842          2  Operating profit fell to EUR 35.4 mn from EUR ...\n",
            "4843          2  Net sales of the Paper segment decreased to EU...\n",
            "4844          2  Sales in Finland decreased by 10.5 % in Januar...\n",
            "\n",
            "[4845 rows x 2 columns]\n"
          ]
        }
      ]
    },
    {
      "cell_type": "code",
      "source": [
        "def print_message(index):\n",
        "    example = df[df.index == index][['Message', 'sentiment']].values[0]\n",
        "    if len(example) > 0:\n",
        "        print(example[0])\n",
        "        print('Message:', example[1])\n"
      ],
      "metadata": {
        "execution": {
          "iopub.execute_input": "2020-10-05T01:18:57.661109Z",
          "iopub.status.busy": "2020-10-05T01:18:57.660385Z",
          "iopub.status.idle": "2020-10-05T01:18:57.664845Z",
          "shell.execute_reply": "2020-10-05T01:18:57.664295Z"
        },
        "papermill": {
          "duration": 0.039449,
          "end_time": "2020-10-05T01:18:57.66496",
          "exception": false,
          "start_time": "2020-10-05T01:18:57.625511",
          "status": "completed"
        },
        "tags": [],
        "trusted": true,
        "id": "7TNQd6zBA2k7"
      },
      "execution_count": 105,
      "outputs": []
    },
    {
      "cell_type": "code",
      "source": [
        "print_message(0)"
      ],
      "metadata": {
        "execution": {
          "iopub.execute_input": "2020-10-05T01:18:57.727963Z",
          "iopub.status.busy": "2020-10-05T01:18:57.72733Z",
          "iopub.status.idle": "2020-10-05T01:18:57.730151Z",
          "shell.execute_reply": "2020-10-05T01:18:57.730741Z"
        },
        "papermill": {
          "duration": 0.03747,
          "end_time": "2020-10-05T01:18:57.730886",
          "exception": false,
          "start_time": "2020-10-05T01:18:57.693416",
          "status": "completed"
        },
        "tags": [],
        "trusted": true,
        "colab": {
          "base_uri": "https://localhost:8080/"
        },
        "id": "u50JFgSGA2k8",
        "outputId": "ceaf43d6-f7c9-4544-fb86-b2e41918c98c"
      },
      "execution_count": 106,
      "outputs": [
        {
          "output_type": "stream",
          "name": "stdout",
          "text": [
            "Technopolis plans to develop in stages an area of no less than 100,000 square meters in order to host companies working in computer technologies and telecommunications , the statement said .\n",
            "Message: 1\n"
          ]
        }
      ]
    },
    {
      "cell_type": "markdown",
      "source": [
        "Text Preprocessing Below we define a function to convert text to lower-case and strip punctuation/symbols from words and so on."
      ],
      "metadata": {
        "papermill": {
          "duration": 0.028191,
          "end_time": "2020-10-05T01:18:57.787679",
          "exception": false,
          "start_time": "2020-10-05T01:18:57.759488",
          "status": "completed"
        },
        "tags": [],
        "id": "cp3KgZ5rA2k8"
      }
    },
    {
      "cell_type": "code",
      "source": [
        "from bs4 import BeautifulSoup     \n",
        "def cleanText(text):\n",
        "    text = BeautifulSoup(text, \"lxml\").text\n",
        "    text = re.sub(r'\\|\\|\\|', r' ', text) \n",
        "    text = re.sub(r'http\\S+', r'<URL>', text)\n",
        "    text = text.lower()\n",
        "    text = text.replace('x', '')\n",
        "    return text\n",
        "df['Message'] = df['Message'].apply(cleanText)"
      ],
      "metadata": {
        "execution": {
          "iopub.execute_input": "2020-10-05T01:18:57.851856Z",
          "iopub.status.busy": "2020-10-05T01:18:57.851034Z",
          "iopub.status.idle": "2020-10-05T01:18:59.249432Z",
          "shell.execute_reply": "2020-10-05T01:18:59.248746Z"
        },
        "papermill": {
          "duration": 1.433243,
          "end_time": "2020-10-05T01:18:59.249542",
          "exception": false,
          "start_time": "2020-10-05T01:18:57.816299",
          "status": "completed"
        },
        "tags": [],
        "trusted": true,
        "id": "qS6AtGGMA2k8"
      },
      "execution_count": 107,
      "outputs": []
    },
    {
      "cell_type": "code",
      "source": [
        "import nltk\n",
        "nltk.download('punkt')"
      ],
      "metadata": {
        "colab": {
          "base_uri": "https://localhost:8080/"
        },
        "id": "nmAZDcZhCSq0",
        "outputId": "b0141570-41d1-4518-f23e-fddb4a928bb6"
      },
      "execution_count": 108,
      "outputs": [
        {
          "output_type": "stream",
          "name": "stderr",
          "text": [
            "[nltk_data] Downloading package punkt to /root/nltk_data...\n",
            "[nltk_data]   Package punkt is already up-to-date!\n"
          ]
        },
        {
          "output_type": "execute_result",
          "data": {
            "text/plain": [
              "True"
            ]
          },
          "metadata": {},
          "execution_count": 108
        }
      ]
    },
    {
      "cell_type": "code",
      "source": [
        "df['Message'] = df['Message'].apply(cleanText)\n",
        "train, test = train_test_split(df, test_size=0.000001 , random_state=42)\n",
        "import nltk\n",
        "from nltk.corpus import stopwords\n",
        "def tokenize_text(text):\n",
        "    tokens = []\n",
        "    for sent in nltk.sent_tokenize(text):\n",
        "        for word in nltk.word_tokenize(sent):\n",
        "            #if len(word) < 0:\n",
        "            if len(word) <= 0:\n",
        "                continue\n",
        "            tokens.append(word.lower())\n",
        "    return tokens\n",
        "train_tagged = train.apply(\n",
        "    lambda r: TaggedDocument(words=tokenize_text(r['Message']), tags=[r.sentiment]), axis=1)\n",
        "test_tagged = test.apply(\n",
        "    lambda r: TaggedDocument(words=tokenize_text(r['Message']), tags=[r.sentiment]), axis=1)\n",
        "\n",
        "# The maximum number of words to be used. (most frequent)\n",
        "max_fatures = 500000\n",
        "\n",
        "# Max number of words in each complaint.\n",
        "MAX_SEQUENCE_LENGTH = 50\n",
        "\n",
        "#tokenizer = Tokenizer(num_words=max_fatures, split=' ')\n",
        "tokenizer = Tokenizer(num_words=max_fatures, split=' ', filters='!\"#$%&()*+,-./:;<=>?@[\\]^_`{|}~', lower=True)\n",
        "tokenizer.fit_on_texts(df['Message'].values)\n",
        "X = tokenizer.texts_to_sequences(df['Message'].values)\n",
        "X = pad_sequences(X)\n",
        "print('Found %s unique tokens.' % len(X))"
      ],
      "metadata": {
        "execution": {
          "iopub.execute_input": "2020-10-05T01:18:59.320415Z",
          "iopub.status.busy": "2020-10-05T01:18:59.315271Z",
          "iopub.status.idle": "2020-10-05T01:19:03.167105Z",
          "shell.execute_reply": "2020-10-05T01:19:03.166463Z"
        },
        "papermill": {
          "duration": 3.888841,
          "end_time": "2020-10-05T01:19:03.167222",
          "exception": false,
          "start_time": "2020-10-05T01:18:59.278381",
          "status": "completed"
        },
        "tags": [],
        "trusted": true,
        "colab": {
          "base_uri": "https://localhost:8080/"
        },
        "id": "kKRJzpVCA2k9",
        "outputId": "066fbed1-2001-49ba-ee9e-9df9e984859f"
      },
      "execution_count": 109,
      "outputs": [
        {
          "output_type": "stream",
          "name": "stdout",
          "text": [
            "Found 4845 unique tokens.\n"
          ]
        }
      ]
    },
    {
      "cell_type": "code",
      "source": [
        "X = tokenizer.texts_to_sequences(df['Message'].values)\n",
        "X = pad_sequences(X, maxlen=MAX_SEQUENCE_LENGTH)\n",
        "print('Shape of data tensor:', X.shape)"
      ],
      "metadata": {
        "execution": {
          "iopub.execute_input": "2020-10-05T01:19:03.26982Z",
          "iopub.status.busy": "2020-10-05T01:19:03.264784Z",
          "iopub.status.idle": "2020-10-05T01:19:03.357792Z",
          "shell.execute_reply": "2020-10-05T01:19:03.357033Z"
        },
        "papermill": {
          "duration": 0.161222,
          "end_time": "2020-10-05T01:19:03.35797",
          "exception": false,
          "start_time": "2020-10-05T01:19:03.196748",
          "status": "completed"
        },
        "tags": [],
        "trusted": true,
        "colab": {
          "base_uri": "https://localhost:8080/"
        },
        "id": "UxOTWLY3A2k9",
        "outputId": "eaf2fccf-8906-46c7-fe43-0e7dcd9e1d6f"
      },
      "execution_count": 110,
      "outputs": [
        {
          "output_type": "stream",
          "name": "stdout",
          "text": [
            "Shape of data tensor: (4845, 50)\n"
          ]
        }
      ]
    },
    {
      "cell_type": "code",
      "source": [
        "#train_tagged.values[2173]\n",
        "train_tagged.values"
      ],
      "metadata": {
        "execution": {
          "iopub.execute_input": "2020-10-05T01:19:03.423266Z",
          "iopub.status.busy": "2020-10-05T01:19:03.422404Z",
          "iopub.status.idle": "2020-10-05T01:19:03.42685Z",
          "shell.execute_reply": "2020-10-05T01:19:03.426078Z"
        },
        "papermill": {
          "duration": 0.038354,
          "end_time": "2020-10-05T01:19:03.426988",
          "exception": false,
          "start_time": "2020-10-05T01:19:03.388634",
          "status": "completed"
        },
        "tags": [],
        "trusted": true,
        "colab": {
          "base_uri": "https://localhost:8080/"
        },
        "id": "I0z2W7RNA2k9",
        "outputId": "3a00bf38-010c-45c2-f03d-86c8249933e3"
      },
      "execution_count": 111,
      "outputs": [
        {
          "output_type": "execute_result",
          "data": {
            "text/plain": [
              "array([TaggedDocument(words=['upm-kymmene', 'has', 'generated', 'four', 'consecutive', 'quarters', 'of', 'positive', 'free', 'cash', 'flow', '.'], tags=[0]),\n",
              "       TaggedDocument(words=['in', 'the', 'method', 'the', 'smelt', 'spouts', '2', 'are', 'separated', 'from', 'the', 'working', 'area', '6', 'by', 'a', 'shielding', 'wall', '8', ',', '10', 'arranged', 'movable', 'in', 'relation', 'to', 'the', 'smelt', 'spouts', '.'], tags=[1]),\n",
              "       TaggedDocument(words=['``', 'that', \"'s\", 'a', 'very', 'high', 'figure', 'on', 'the', 'european', 'scale', ',', '``', 'noop', 'said', ',', 'recalling', 'however', 'that', 'this', 'also', 'includes', 'beer', 'bought', 'by', 'finnish', 'tourists', '.'], tags=[1]),\n",
              "       ...,\n",
              "       TaggedDocument(words=['proha', 'plc', '(', 'euronet', ':7327', ')', 'announced', 'today', '(', '19', 'may', ')', 'that', 'its', 'fully-owned', 'subsidiary', ',', 'safran', 'software', 'solutions', 'as', ',', 'has', 'agreed', 'to', 'sell', 'its', '49', '%', 'share', 'of', 'safran', 'north', 'america', 'llc', 'to', 'a', 'sna', 'holding', 'as', ',', 'an', 'investment', 'group', 'based', 'in', 'norway', '.'], tags=[1]),\n",
              "       TaggedDocument(words=['the', 'building', 'will', 'house', 'product', 'development', 'and', 'test', 'laboratories', '.'], tags=[1]),\n",
              "       TaggedDocument(words=['(', 'adp', 'news', ')', '-', 'oct', '31', ',', '2008', '-', 'finnish', 'food', 'company', 'raisio', 'oyj', '(', 'om', ':', 'raivv', ')', 'said', 'today', 'that', 'its', 'net', 'profit', 'jumped', 'to', 'eur', '16.4', 'million', '(', 'usd', '20.9', 'm', ')', 'for', 'the', 'first', 'nine', 'months', 'of', '2008', 'from', 'eur', '1.1', 'million', 'for', 'the', 'same', 'period', 'of', '2'], tags=[0])],\n",
              "      dtype=object)"
            ]
          },
          "metadata": {},
          "execution_count": 111
        }
      ]
    },
    {
      "cell_type": "markdown",
      "source": [
        "Model DM = 1\n",
        "\n",
        "This work use DM=1 (it preserve word order)"
      ],
      "metadata": {
        "papermill": {
          "duration": 0.030785,
          "end_time": "2020-10-05T01:19:03.489054",
          "exception": false,
          "start_time": "2020-10-05T01:19:03.458269",
          "status": "completed"
        },
        "tags": [],
        "id": "10gNiu6lA2k9"
      }
    },
    {
      "cell_type": "code",
      "source": [
        "d2v_model = Doc2Vec(dm=1, dm_mean=1, size=20, window=8, min_count=1, workers=1, alpha=0.065, min_alpha=0.065)\n",
        "d2v_model.build_vocab([x for x in tqdm(train_tagged.values)])\n"
      ],
      "metadata": {
        "execution": {
          "iopub.execute_input": "2020-10-05T01:19:03.55773Z",
          "iopub.status.busy": "2020-10-05T01:19:03.557064Z",
          "iopub.status.idle": "2020-10-05T01:19:05.81867Z",
          "shell.execute_reply": "2020-10-05T01:19:05.817959Z"
        },
        "papermill": {
          "duration": 2.298341,
          "end_time": "2020-10-05T01:19:05.818788",
          "exception": false,
          "start_time": "2020-10-05T01:19:03.520447",
          "status": "completed"
        },
        "tags": [],
        "trusted": true,
        "colab": {
          "base_uri": "https://localhost:8080/"
        },
        "id": "BPU-yZ_iA2k-",
        "outputId": "2086f15c-e87a-4fd5-a281-92cb299411a3"
      },
      "execution_count": 112,
      "outputs": [
        {
          "output_type": "stream",
          "name": "stderr",
          "text": [
            "/usr/local/lib/python3.8/dist-packages/gensim/models/doc2vec.py:570: UserWarning: The parameter `size` is deprecated, will be removed in 4.0.0, use `vector_size` instead.\n",
            "  warnings.warn(\"The parameter `size` is deprecated, will be removed in 4.0.0, use `vector_size` instead.\")\n",
            "100%|██████████| 4844/4844 [00:00<00:00, 1560221.82it/s]\n"
          ]
        }
      ]
    },
    {
      "cell_type": "code",
      "source": [
        "%%time\n",
        "for epoch in range(30):\n",
        "    d2v_model.train(utils.shuffle([x for x in tqdm(train_tagged.values)]), total_examples=len(train_tagged.values), epochs=1)\n",
        "    d2v_model.alpha -= 0.002\n",
        "    d2v_model.min_alpha = d2v_model.alpha"
      ],
      "metadata": {
        "execution": {
          "iopub.execute_input": "2020-10-05T01:19:05.886405Z",
          "iopub.status.busy": "2020-10-05T01:19:05.885713Z",
          "iopub.status.idle": "2020-10-05T01:19:17.297968Z",
          "shell.execute_reply": "2020-10-05T01:19:17.29887Z"
        },
        "papermill": {
          "duration": 11.449623,
          "end_time": "2020-10-05T01:19:17.299148",
          "exception": false,
          "start_time": "2020-10-05T01:19:05.849525",
          "status": "completed"
        },
        "tags": [],
        "trusted": true,
        "colab": {
          "base_uri": "https://localhost:8080/"
        },
        "id": "g9j7ZNmlA2k-",
        "outputId": "6967134e-203c-4b63-c940-832b354b62f4"
      },
      "execution_count": 113,
      "outputs": [
        {
          "output_type": "stream",
          "name": "stderr",
          "text": [
            "100%|██████████| 4844/4844 [00:00<00:00, 1342842.60it/s]\n",
            "100%|██████████| 4844/4844 [00:00<00:00, 1751634.50it/s]\n",
            "100%|██████████| 4844/4844 [00:00<00:00, 1272449.96it/s]\n",
            "100%|██████████| 4844/4844 [00:00<00:00, 1972353.03it/s]\n",
            "100%|██████████| 4844/4844 [00:00<00:00, 947012.61it/s]\n",
            "100%|██████████| 4844/4844 [00:00<00:00, 1957530.45it/s]\n",
            "100%|██████████| 4844/4844 [00:00<00:00, 1455387.43it/s]\n",
            "100%|██████████| 4844/4844 [00:00<00:00, 3367121.08it/s]\n",
            "100%|██████████| 4844/4844 [00:00<00:00, 3292368.92it/s]\n",
            "100%|██████████| 4844/4844 [00:00<00:00, 1425668.98it/s]\n",
            "100%|██████████| 4844/4844 [00:00<00:00, 1298971.20it/s]\n",
            "100%|██████████| 4844/4844 [00:00<00:00, 1574367.19it/s]\n",
            "100%|██████████| 4844/4844 [00:00<00:00, 1497435.77it/s]\n",
            "100%|██████████| 4844/4844 [00:00<00:00, 1137645.37it/s]\n",
            "100%|██████████| 4844/4844 [00:00<00:00, 1655844.22it/s]\n",
            "100%|██████████| 4844/4844 [00:00<00:00, 1993837.94it/s]\n",
            "100%|██████████| 4844/4844 [00:00<00:00, 1473008.67it/s]\n",
            "100%|██████████| 4844/4844 [00:00<00:00, 1539532.36it/s]\n",
            "100%|██████████| 4844/4844 [00:00<00:00, 1934787.98it/s]\n",
            "100%|██████████| 4844/4844 [00:00<00:00, 1883315.59it/s]\n",
            "100%|██████████| 4844/4844 [00:00<00:00, 1771334.66it/s]\n",
            "100%|██████████| 4844/4844 [00:00<00:00, 1441141.20it/s]\n",
            "100%|██████████| 4844/4844 [00:00<00:00, 1033481.28it/s]\n",
            "100%|██████████| 4844/4844 [00:00<00:00, 3384509.17it/s]\n",
            "100%|██████████| 4844/4844 [00:00<00:00, 1927628.90it/s]\n",
            "100%|██████████| 4844/4844 [00:00<00:00, 1967768.39it/s]\n",
            "100%|██████████| 4844/4844 [00:00<00:00, 3114225.72it/s]\n",
            "100%|██████████| 4844/4844 [00:00<00:00, 1576810.91it/s]\n",
            "100%|██████████| 4844/4844 [00:00<00:00, 1689159.34it/s]\n",
            "100%|██████████| 4844/4844 [00:00<00:00, 1982166.69it/s]\n"
          ]
        },
        {
          "output_type": "stream",
          "name": "stdout",
          "text": [
            "CPU times: user 9.77 s, sys: 88.9 ms, total: 9.86 s\n",
            "Wall time: 10.6 s\n"
          ]
        }
      ]
    },
    {
      "cell_type": "code",
      "source": [
        "print(d2v_model)\n"
      ],
      "metadata": {
        "execution": {
          "iopub.execute_input": "2020-10-05T01:19:17.431464Z",
          "iopub.status.busy": "2020-10-05T01:19:17.430666Z",
          "iopub.status.idle": "2020-10-05T01:19:17.434788Z",
          "shell.execute_reply": "2020-10-05T01:19:17.43418Z"
        },
        "papermill": {
          "duration": 0.063869,
          "end_time": "2020-10-05T01:19:17.434906",
          "exception": false,
          "start_time": "2020-10-05T01:19:17.371037",
          "status": "completed"
        },
        "tags": [],
        "trusted": true,
        "colab": {
          "base_uri": "https://localhost:8080/"
        },
        "id": "n17JH2e2A2k-",
        "outputId": "ec32347a-b2f4-498a-e17c-918f27ce2efa"
      },
      "execution_count": 114,
      "outputs": [
        {
          "output_type": "stream",
          "name": "stdout",
          "text": [
            "Doc2Vec(dm/m,d20,n5,w8,s0.001)\n"
          ]
        }
      ]
    },
    {
      "cell_type": "code",
      "source": [
        "len(d2v_model.wv.vocab)\n"
      ],
      "metadata": {
        "execution": {
          "iopub.execute_input": "2020-10-05T01:19:17.552003Z",
          "iopub.status.busy": "2020-10-05T01:19:17.551313Z",
          "iopub.status.idle": "2020-10-05T01:19:17.555857Z",
          "shell.execute_reply": "2020-10-05T01:19:17.555256Z"
        },
        "papermill": {
          "duration": 0.065241,
          "end_time": "2020-10-05T01:19:17.555966",
          "exception": false,
          "start_time": "2020-10-05T01:19:17.490725",
          "status": "completed"
        },
        "tags": [],
        "trusted": true,
        "colab": {
          "base_uri": "https://localhost:8080/"
        },
        "id": "G7EC2oP9A2k-",
        "outputId": "a5fb64e3-cfb7-4833-b3f6-f7ebcee4f623"
      },
      "execution_count": 115,
      "outputs": [
        {
          "output_type": "execute_result",
          "data": {
            "text/plain": [
              "11682"
            ]
          },
          "metadata": {},
          "execution_count": 115
        }
      ]
    },
    {
      "cell_type": "code",
      "source": [
        "# save the vectors in a new matrix\n",
        "embedding_matrix = np.zeros((len(d2v_model.wv.vocab)+ 1, 20))\n",
        "\n",
        "for i, vec in enumerate(d2v_model.docvecs.vectors_docs):\n",
        "    while i in vec <= 1000:\n",
        "    #print(i)\n",
        "    #print(model.docvecs)\n",
        "          embedding_matrix[i]=vec\n",
        "    #print(vec)\n",
        "    #print(vec[i])"
      ],
      "metadata": {
        "execution": {
          "iopub.execute_input": "2020-10-05T01:19:17.675386Z",
          "iopub.status.busy": "2020-10-05T01:19:17.674656Z",
          "iopub.status.idle": "2020-10-05T01:19:17.678629Z",
          "shell.execute_reply": "2020-10-05T01:19:17.677978Z"
        },
        "papermill": {
          "duration": 0.066276,
          "end_time": "2020-10-05T01:19:17.678744",
          "exception": false,
          "start_time": "2020-10-05T01:19:17.612468",
          "status": "completed"
        },
        "tags": [],
        "trusted": true,
        "id": "pVxxJOcgA2k_"
      },
      "execution_count": 116,
      "outputs": []
    },
    {
      "cell_type": "markdown",
      "source": [
        "# Measuring distance between two vectors (related to cosine similarity)"
      ],
      "metadata": {
        "papermill": {
          "duration": 0.056188,
          "end_time": "2020-10-05T01:19:17.792133",
          "exception": false,
          "start_time": "2020-10-05T01:19:17.735945",
          "status": "completed"
        },
        "tags": [],
        "id": "Ae9WEWoQA2k_"
      }
    },
    {
      "cell_type": "code",
      "source": [
        "d2v_model.wv.most_similar(positive=['profit'], topn=10)\n"
      ],
      "metadata": {
        "execution": {
          "iopub.execute_input": "2020-10-05T01:19:17.911424Z",
          "iopub.status.busy": "2020-10-05T01:19:17.910718Z",
          "iopub.status.idle": "2020-10-05T01:19:17.922817Z",
          "shell.execute_reply": "2020-10-05T01:19:17.922112Z"
        },
        "papermill": {
          "duration": 0.074348,
          "end_time": "2020-10-05T01:19:17.922934",
          "exception": false,
          "start_time": "2020-10-05T01:19:17.848586",
          "status": "completed"
        },
        "tags": [],
        "trusted": true,
        "colab": {
          "base_uri": "https://localhost:8080/"
        },
        "id": "_6MGChE3A2k_",
        "outputId": "05eb4f9f-0e47-494b-fa91-4cf1edd0b658"
      },
      "execution_count": 117,
      "outputs": [
        {
          "output_type": "execute_result",
          "data": {
            "text/plain": [
              "[('loss', 0.884555995464325),\n",
              " ('profits', 0.7661105394363403),\n",
              " ('income', 0.7535871863365173),\n",
              " ('larger-than-epected', 0.738872766494751),\n",
              " ('sacanfil', 0.7367345094680786),\n",
              " ('intertek', 0.7343559861183167),\n",
              " ('sales', 0.7310124635696411),\n",
              " ('assumption', 0.7120251655578613),\n",
              " ('4.7', 0.6858848333358765),\n",
              " ('walby', 0.6777501702308655)]"
            ]
          },
          "metadata": {},
          "execution_count": 117
        }
      ]
    },
    {
      "cell_type": "code",
      "source": [
        "d2v_model.wv.most_similar(positive=['investment'], topn=10)\n"
      ],
      "metadata": {
        "execution": {
          "iopub.execute_input": "2020-10-05T01:19:18.045125Z",
          "iopub.status.busy": "2020-10-05T01:19:18.044197Z",
          "iopub.status.idle": "2020-10-05T01:19:18.050376Z",
          "shell.execute_reply": "2020-10-05T01:19:18.049834Z"
        },
        "papermill": {
          "duration": 0.070818,
          "end_time": "2020-10-05T01:19:18.050488",
          "exception": false,
          "start_time": "2020-10-05T01:19:17.97967",
          "status": "completed"
        },
        "tags": [],
        "trusted": true,
        "colab": {
          "base_uri": "https://localhost:8080/"
        },
        "id": "5pwp4e5AA2lA",
        "outputId": "fa048264-23dc-458e-9cce-f002ff8dc87e"
      },
      "execution_count": 118,
      "outputs": [
        {
          "output_type": "execute_result",
          "data": {
            "text/plain": [
              "[('fund', 0.8327064514160156),\n",
              " ('reasonable', 0.7990363240242004),\n",
              " ('matka-vekka', 0.7905328273773193),\n",
              " ('demanded', 0.7669256925582886),\n",
              " ('pension', 0.7632472515106201),\n",
              " ('overcharging', 0.7596493363380432),\n",
              " ('cooperating', 0.7323600053787231),\n",
              " ('syndicated', 0.7215335369110107),\n",
              " ('scanned', 0.7206530570983887),\n",
              " ('op-pohjola', 0.7112322449684143)]"
            ]
          },
          "metadata": {},
          "execution_count": 118
        }
      ]
    },
    {
      "cell_type": "code",
      "source": [
        "d2v_model.wv.most_similar(positive=['broke'], topn=10)"
      ],
      "metadata": {
        "trusted": true,
        "colab": {
          "base_uri": "https://localhost:8080/"
        },
        "id": "XHuSIM4UA2lA",
        "outputId": "7a72cbd8-3413-48c7-ed00-2f2cd295b88e"
      },
      "execution_count": 119,
      "outputs": [
        {
          "output_type": "execute_result",
          "data": {
            "text/plain": [
              "[('mold', 0.9462075233459473),\n",
              " ('paperlin', 0.8695492744445801),\n",
              " ('seitovirta', 0.8611060380935669),\n",
              " ('macro-economic', 0.8590133190155029),\n",
              " ('gather', 0.8539599180221558),\n",
              " ('aboavista', 0.8534113764762878),\n",
              " ('chaim', 0.849442720413208),\n",
              " ('kids', 0.8488947153091431),\n",
              " ('my', 0.8372960090637207),\n",
              " ('glad', 0.8340921401977539)]"
            ]
          },
          "metadata": {},
          "execution_count": 119
        }
      ]
    },
    {
      "cell_type": "markdown",
      "source": [
        "Plot Similarity word in Doc2vec"
      ],
      "metadata": {
        "id": "yvAtOo3SA2lA"
      }
    },
    {
      "cell_type": "code",
      "source": [
        "from sklearn.manifold import TSNE\n",
        "import matplotlib.pyplot as plt\n",
        "%matplotlib inline\n",
        "\n",
        "def tsne_plot(model):\n",
        "    \"Creates and TSNE model and plots it\"\n",
        "    labels = []\n",
        "    tokens = []\n",
        "\n",
        "    for word in d2v_model.wv.vocab:\n",
        "        tokens.append(model[word])\n",
        "        labels.append(word)\n",
        "    \n",
        "    tsne_model = TSNE(perplexity=40, n_components=2, init='pca', n_iter=250, random_state=23)\n",
        "    new_values = tsne_model.fit_transform(tokens)\n",
        "\n",
        "    x = []\n",
        "    y = []\n",
        "    for value in new_values:\n",
        "        x.append(value[0])\n",
        "        y.append(value[1])\n",
        "        \n",
        "    plt.figure(figsize=(16, 16)) \n",
        "    for i in range(len(x)):\n",
        "        plt.scatter(x[i],y[i])\n",
        "        plt.annotate(labels[i],\n",
        "                     xy=(x[i], y[i]),\n",
        "                     xytext=(5, 2),\n",
        "                     textcoords='offset points',\n",
        "                     ha='right',\n",
        "                     va='bottom')\n",
        "    plt.show()"
      ],
      "metadata": {
        "trusted": true,
        "id": "jbaeKuXxA2lB"
      },
      "execution_count": 120,
      "outputs": []
    },
    {
      "cell_type": "code",
      "source": [
        "tsne_plot(d2v_model)"
      ],
      "metadata": {
        "trusted": true,
        "colab": {
          "base_uri": "https://localhost:8080/"
        },
        "id": "tkv6beKmA2lC",
        "outputId": "1646a1ff-0129-4bef-e3c8-650aa060a767"
      },
      "execution_count": null,
      "outputs": [
        {
          "metadata": {
            "tags": null
          },
          "name": "stderr",
          "output_type": "stream",
          "text": [
            "/usr/local/lib/python3.8/dist-packages/sklearn/manifold/_t_sne.py:790: FutureWarning: The default learning rate in TSNE will change from 200.0 to 'auto' in 1.2.\n",
            "  warnings.warn(\n",
            "/usr/local/lib/python3.8/dist-packages/sklearn/manifold/_t_sne.py:982: FutureWarning: The PCA initialization in TSNE will change to have the standard deviation of PC1 equal to 1e-4 in 1.2. This will ensure better convergence.\n",
            "  warnings.warn(\n"
          ]
        }
      ]
    },
    {
      "cell_type": "markdown",
      "source": [
        "# Create the LSTM Model\n",
        "\n",
        "The parameter used here inspired by [3].\n",
        "\n"
      ],
      "metadata": {
        "papermill": {
          "duration": 0.057228,
          "end_time": "2020-10-05T01:19:18.165925",
          "exception": false,
          "start_time": "2020-10-05T01:19:18.108697",
          "status": "completed"
        },
        "tags": [],
        "id": "dhsW5trBA2lC"
      }
    },
    {
      "cell_type": "code",
      "source": [
        "from keras.models import Sequential\n",
        "from keras.layers import LSTM, Dense, Embedding\n",
        "\n",
        "\n",
        "# init layer\n",
        "model = Sequential()\n",
        "\n",
        "# emmbed word vectors\n",
        "model.add(Embedding(len(d2v_model.wv.vocab)+1,20,input_length=X.shape[1],weights=[embedding_matrix],trainable=True))\n",
        "\n",
        "# learn the correlations\n",
        "def split_input(sequence):\n",
        "     return sequence[:-1], tf.reshape(sequence[1:], (-1,1))\n",
        "model.add(LSTM(50,return_sequences=False))\n",
        "model.add(Dense(3,activation=\"softmax\"))\n",
        "\n",
        "# output model skeleton\n",
        "model.summary()\n",
        "model.compile(optimizer=\"adam\",loss=\"binary_crossentropy\",metrics=['acc'])"
      ],
      "metadata": {
        "execution": {
          "iopub.execute_input": "2020-10-05T01:19:18.290022Z",
          "iopub.status.busy": "2020-10-05T01:19:18.28922Z",
          "iopub.status.idle": "2020-10-05T01:19:18.769926Z",
          "shell.execute_reply": "2020-10-05T01:19:18.769384Z"
        },
        "papermill": {
          "duration": 0.54651,
          "end_time": "2020-10-05T01:19:18.770035",
          "exception": false,
          "start_time": "2020-10-05T01:19:18.223525",
          "status": "completed"
        },
        "tags": [],
        "trusted": true,
        "id": "mXKdpoLPA2lC"
      },
      "execution_count": null,
      "outputs": []
    },
    {
      "cell_type": "code",
      "source": [
        "from keras.utils import plot_model\n",
        "plot_model(model, to_file='model.png')"
      ],
      "metadata": {
        "execution": {
          "iopub.execute_input": "2020-10-05T01:19:18.890903Z",
          "iopub.status.busy": "2020-10-05T01:19:18.890223Z",
          "iopub.status.idle": "2020-10-05T01:19:19.468055Z",
          "shell.execute_reply": "2020-10-05T01:19:19.467419Z"
        },
        "papermill": {
          "duration": 0.641169,
          "end_time": "2020-10-05T01:19:19.468168",
          "exception": false,
          "start_time": "2020-10-05T01:19:18.826999",
          "status": "completed"
        },
        "tags": [],
        "trusted": true,
        "id": "E2mYf6YpA2lE"
      },
      "execution_count": null,
      "outputs": []
    },
    {
      "cell_type": "code",
      "source": [
        "Y = pd.get_dummies(df['sentiment']).values\n",
        "X_train, X_test, Y_train, Y_test = train_test_split(X,Y, test_size = 0.15, random_state = 42)\n",
        "print(X_train.shape,Y_train.shape)\n",
        "print(X_test.shape,Y_test.shape)"
      ],
      "metadata": {
        "execution": {
          "iopub.execute_input": "2020-10-05T01:19:19.592582Z",
          "iopub.status.busy": "2020-10-05T01:19:19.591805Z",
          "iopub.status.idle": "2020-10-05T01:19:19.600008Z",
          "shell.execute_reply": "2020-10-05T01:19:19.60048Z"
        },
        "papermill": {
          "duration": 0.073975,
          "end_time": "2020-10-05T01:19:19.600639",
          "exception": false,
          "start_time": "2020-10-05T01:19:19.526664",
          "status": "completed"
        },
        "tags": [],
        "trusted": true,
        "id": "r7tpBRobA2lE"
      },
      "execution_count": null,
      "outputs": []
    },
    {
      "cell_type": "code",
      "source": [
        "batch_size = 32\n",
        "history=model.fit(X_train, Y_train, epochs =50, batch_size=batch_size, verbose = 2)"
      ],
      "metadata": {
        "execution": {
          "iopub.execute_input": "2020-10-05T01:19:19.723478Z",
          "iopub.status.busy": "2020-10-05T01:19:19.722804Z",
          "iopub.status.idle": "2020-10-05T01:21:25.543691Z",
          "shell.execute_reply": "2020-10-05T01:21:25.54296Z"
        },
        "papermill": {
          "duration": 125.885256,
          "end_time": "2020-10-05T01:21:25.543826",
          "exception": false,
          "start_time": "2020-10-05T01:19:19.65857",
          "status": "completed"
        },
        "tags": [],
        "trusted": true,
        "id": "3t-3ySJtA2lF"
      },
      "execution_count": null,
      "outputs": []
    },
    {
      "cell_type": "code",
      "source": [
        "plt.plot(history.history['acc'])\n",
        "plt.title('model accuracy')\n",
        "plt.ylabel('acc')\n",
        "plt.xlabel('epochs')\n",
        "plt.legend(['train', 'test'], loc='upper left')\n",
        "plt.show()\n",
        "plt.savefig('model_accuracy.png')\n",
        "\n",
        "# summarize history for loss\n",
        "plt.plot(history.history['loss'])\n",
        "#plt.plot(history.history['val_loss'])\n",
        "plt.title('model loss')\n",
        "plt.ylabel('loss')\n",
        "plt.xlabel('epochs')\n",
        "plt.legend(['train', 'test'], loc='upper left')\n",
        "plt.show()\n",
        "plt.savefig('model_loss.png')"
      ],
      "metadata": {
        "execution": {
          "iopub.execute_input": "2020-10-05T01:21:25.729387Z",
          "iopub.status.busy": "2020-10-05T01:21:25.728399Z",
          "iopub.status.idle": "2020-10-05T01:21:26.027345Z",
          "shell.execute_reply": "2020-10-05T01:21:26.026669Z"
        },
        "papermill": {
          "duration": 0.398548,
          "end_time": "2020-10-05T01:21:26.027463",
          "exception": false,
          "start_time": "2020-10-05T01:21:25.628915",
          "status": "completed"
        },
        "tags": [],
        "trusted": true,
        "id": "F0fbvl0oA2lF"
      },
      "execution_count": null,
      "outputs": []
    },
    {
      "cell_type": "code",
      "source": [
        "# evaluate the model\n",
        "_, train_acc = model.evaluate(X_train, Y_train, verbose=2)\n",
        "_, test_acc = model.evaluate(X_test, Y_test, verbose=2)\n",
        "print('Train: %.3f, Test: %.4f' % (train_acc, test_acc))"
      ],
      "metadata": {
        "execution": {
          "iopub.execute_input": "2020-10-05T01:21:26.206672Z",
          "iopub.status.busy": "2020-10-05T01:21:26.205744Z",
          "iopub.status.idle": "2020-10-05T01:21:28.117947Z",
          "shell.execute_reply": "2020-10-05T01:21:28.1172Z"
        },
        "papermill": {
          "duration": 2.004721,
          "end_time": "2020-10-05T01:21:28.118085",
          "exception": false,
          "start_time": "2020-10-05T01:21:26.113364",
          "status": "completed"
        },
        "tags": [],
        "trusted": true,
        "id": "N5JDTLOfA2lF"
      },
      "execution_count": null,
      "outputs": []
    },
    {
      "cell_type": "code",
      "source": [
        "# predict probabilities for test set\n",
        "yhat_probs = model.predict(X_test, verbose=0)\n",
        "print(yhat_probs)\n",
        "# predict crisp classes for test set\n",
        "\n",
        "predict_x=model.predict(X_test) \n",
        "classes_x=np.argmax(predict_x,axis=1)\n",
        "yhat_classes=classes_x\n",
        "print(yhat_classes)\n",
        "# reduce to 1d array\n",
        "#yhat_probs = yhat_probs[:, 0]\n",
        "#yhat_classes = yhat_classes[:, 1"
      ],
      "metadata": {
        "execution": {
          "iopub.execute_input": "2020-10-05T01:21:28.300463Z",
          "iopub.status.busy": "2020-10-05T01:21:28.299499Z",
          "iopub.status.idle": "2020-10-05T01:21:29.006904Z",
          "shell.execute_reply": "2020-10-05T01:21:29.006054Z"
        },
        "papermill": {
          "duration": 0.801117,
          "end_time": "2020-10-05T01:21:29.007032",
          "exception": false,
          "start_time": "2020-10-05T01:21:28.205915",
          "status": "completed"
        },
        "tags": [],
        "trusted": true,
        "id": "Men26H8FA2lG"
      },
      "execution_count": null,
      "outputs": []
    },
    {
      "cell_type": "code",
      "source": [
        "import numpy as np\n",
        "rounded_labels=np.argmax(Y_test, axis=1)\n",
        "rounded_labels"
      ],
      "metadata": {
        "execution": {
          "iopub.execute_input": "2020-10-05T01:21:29.191224Z",
          "iopub.status.busy": "2020-10-05T01:21:29.190422Z",
          "iopub.status.idle": "2020-10-05T01:21:29.194988Z",
          "shell.execute_reply": "2020-10-05T01:21:29.194467Z"
        },
        "papermill": {
          "duration": 0.100661,
          "end_time": "2020-10-05T01:21:29.195099",
          "exception": false,
          "start_time": "2020-10-05T01:21:29.094438",
          "status": "completed"
        },
        "tags": [],
        "trusted": true,
        "id": "mi8Pgu1GA2lG"
      },
      "execution_count": null,
      "outputs": []
    },
    {
      "cell_type": "code",
      "source": [
        "from sklearn.metrics import confusion_matrix\n",
        "cm = confusion_matrix(rounded_labels, yhat_classes)\n",
        "cm"
      ],
      "metadata": {
        "execution": {
          "iopub.execute_input": "2020-10-05T01:21:29.378285Z",
          "iopub.status.busy": "2020-10-05T01:21:29.377634Z",
          "iopub.status.idle": "2020-10-05T01:21:29.386496Z",
          "shell.execute_reply": "2020-10-05T01:21:29.385863Z"
        },
        "papermill": {
          "duration": 0.102667,
          "end_time": "2020-10-05T01:21:29.386607",
          "exception": false,
          "start_time": "2020-10-05T01:21:29.28394",
          "status": "completed"
        },
        "tags": [],
        "trusted": true,
        "id": "COfNmap2A2lG"
      },
      "execution_count": null,
      "outputs": []
    },
    {
      "cell_type": "code",
      "source": [
        "# The confusion matrix\n",
        "from sklearn.metrics import confusion_matrix\n",
        "import seaborn as sns\n",
        "\n",
        "lstm_val = confusion_matrix(rounded_labels, yhat_classes)\n",
        "f, ax = plt.subplots(figsize=(5,5))\n",
        "sns.heatmap(lstm_val, annot=True, linewidth=0.7, linecolor='cyan', fmt='g', ax=ax, cmap=\"BuPu\")\n",
        "plt.title('LSTM Classification Confusion Matrix')\n",
        "plt.xlabel('Y predict')\n",
        "plt.ylabel('Y test')\n",
        "plt.show()"
      ],
      "metadata": {
        "execution": {
          "iopub.execute_input": "2020-10-05T01:21:29.609757Z",
          "iopub.status.busy": "2020-10-05T01:21:29.609106Z",
          "iopub.status.idle": "2020-10-05T01:21:29.785727Z",
          "shell.execute_reply": "2020-10-05T01:21:29.785174Z"
        },
        "papermill": {
          "duration": 0.274994,
          "end_time": "2020-10-05T01:21:29.78585",
          "exception": false,
          "start_time": "2020-10-05T01:21:29.510856",
          "status": "completed"
        },
        "tags": [],
        "trusted": true,
        "id": "CGIsBxV0A2lG"
      },
      "execution_count": null,
      "outputs": []
    },
    {
      "cell_type": "markdown",
      "source": [
        "# Validation"
      ],
      "metadata": {
        "id": "8PjJkqcEA2lH"
      }
    },
    {
      "cell_type": "code",
      "source": [
        "validation_size = 610\n",
        "\n",
        "X_validate = X_test[-validation_size:]\n",
        "Y_validate = Y_test[-validation_size:]\n",
        "X_test = X_test[:-validation_size]\n",
        "Y_test = Y_test[:-validation_size]\n",
        "score,acc = model.evaluate(X_test, Y_test, verbose = 1, batch_size = batch_size)\n",
        "\n",
        "print(\"score: %.2f\" % (score))\n",
        "print(\"acc: %.2f\" % (acc))"
      ],
      "metadata": {
        "execution": {
          "iopub.execute_input": "2020-10-05T01:21:29.971724Z",
          "iopub.status.busy": "2020-10-05T01:21:29.970793Z",
          "iopub.status.idle": "2020-10-05T01:21:30.139222Z",
          "shell.execute_reply": "2020-10-05T01:21:30.138618Z"
        },
        "papermill": {
          "duration": 0.264325,
          "end_time": "2020-10-05T01:21:30.139378",
          "exception": false,
          "start_time": "2020-10-05T01:21:29.875053",
          "status": "completed"
        },
        "tags": [],
        "trusted": true,
        "id": "7apJEzxnA2lH"
      },
      "execution_count": null,
      "outputs": []
    },
    {
      "cell_type": "markdown",
      "source": [
        "**Save Model**\n"
      ],
      "metadata": {
        "papermill": {
          "duration": 0.09076,
          "end_time": "2020-10-05T01:21:30.321138",
          "exception": false,
          "start_time": "2020-10-05T01:21:30.230378",
          "status": "completed"
        },
        "tags": [],
        "id": "rbM80seDA2lH"
      }
    },
    {
      "cell_type": "code",
      "source": [
        "\n",
        "model.save('Mymodel.h5')"
      ],
      "metadata": {
        "execution": {
          "iopub.execute_input": "2020-10-05T01:21:30.520966Z",
          "iopub.status.busy": "2020-10-05T01:21:30.520267Z",
          "iopub.status.idle": "2020-10-05T01:21:30.54368Z",
          "shell.execute_reply": "2020-10-05T01:21:30.543068Z"
        },
        "papermill": {
          "duration": 0.126922,
          "end_time": "2020-10-05T01:21:30.543805",
          "exception": false,
          "start_time": "2020-10-05T01:21:30.416883",
          "status": "completed"
        },
        "tags": [],
        "trusted": true,
        "id": "3ZcV_emJA2lH"
      },
      "execution_count": null,
      "outputs": []
    },
    {
      "cell_type": "code",
      "source": [
        "from PIL import Image\n",
        "image1 = Image.open('/content/n.jpg')\n",
        "image2 = Image.open('/content/negative.jpg')\n",
        "image3 = Image.open('/content/positive.jpg')"
      ],
      "metadata": {
        "id": "C5jcD6ykJnBO"
      },
      "execution_count": null,
      "outputs": []
    },
    {
      "cell_type": "markdown",
      "source": [
        "**Test with new and different data set aside from the data to build the model.**\n",
        "\n",
        "note : sentiment  = {'positive': 0,'neutral': 1,'negative':2} "
      ],
      "metadata": {
        "papermill": {
          "duration": 0.089611,
          "end_time": "2020-10-05T01:21:30.723508",
          "exception": false,
          "start_time": "2020-10-05T01:21:30.633897",
          "status": "completed"
        },
        "tags": [],
        "id": "56Js4Bs4A2lH"
      }
    },
    {
      "cell_type": "code",
      "source": [
        "message = [' i did not win ']\n",
        "seq = tokenizer.texts_to_sequences(message)\n",
        "\n",
        "padded = pad_sequences(seq, maxlen=X.shape[1], dtype='int32', value=0)\n",
        "\n",
        "pred = model.predict(padded)\n",
        "\n",
        "labels =  [image3,image1,image2]\n",
        "labels[np.argmax(pred)]"
      ],
      "metadata": {
        "execution": {
          "iopub.execute_input": "2020-10-05T01:21:30.910914Z",
          "iopub.status.busy": "2020-10-05T01:21:30.909943Z",
          "iopub.status.idle": "2020-10-05T01:21:30.951772Z",
          "shell.execute_reply": "2020-10-05T01:21:30.952288Z"
        },
        "papermill": {
          "duration": 0.139045,
          "end_time": "2020-10-05T01:21:30.952454",
          "exception": false,
          "start_time": "2020-10-05T01:21:30.813409",
          "status": "completed"
        },
        "tags": [],
        "trusted": true,
        "id": "KT2gKsC8A2lI"
      },
      "execution_count": null,
      "outputs": []
    },
    {
      "cell_type": "code",
      "source": [
        "message = ['such massive asteroid hit will certainly create new business opportunities']\n",
        "seq = tokenizer.texts_to_sequences(message)\n",
        "\n",
        "padded = pad_sequences(seq, maxlen=X.shape[1], dtype='int32', value=0)\n",
        "\n",
        "pred = model.predict(padded)\n",
        "\n",
        "labels =  [image3,image1,image2]\n",
        "\n",
        "labels[np.argmax(pred)]"
      ],
      "metadata": {
        "execution": {
          "iopub.execute_input": "2020-10-05T01:21:31.142988Z",
          "iopub.status.busy": "2020-10-05T01:21:31.142316Z",
          "iopub.status.idle": "2020-10-05T01:21:31.185788Z",
          "shell.execute_reply": "2020-10-05T01:21:31.184921Z"
        },
        "papermill": {
          "duration": 0.141443,
          "end_time": "2020-10-05T01:21:31.185934",
          "exception": false,
          "start_time": "2020-10-05T01:21:31.044491",
          "status": "completed"
        },
        "tags": [],
        "trusted": true,
        "id": "wH8OWziYA2lI"
      },
      "execution_count": null,
      "outputs": []
    },
    {
      "cell_type": "code",
      "source": [
        "message = ['so does anyone else not open Snapchat anymore ? or is it just me ... ugh this so sad.']\n",
        "seq = tokenizer.texts_to_sequences(message)\n",
        "\n",
        "padded = pad_sequences(seq, maxlen=X.shape[1], dtype='int32', value=0)\n",
        "\n",
        "pred = model.predict(padded)\n",
        "\n",
        "labels =  [image3,image1,image2]\n",
        "\n",
        "labels[np.argmax(pred)]"
      ],
      "metadata": {
        "trusted": true,
        "id": "MYomqbZZA2lI"
      },
      "execution_count": null,
      "outputs": []
    },
    {
      "cell_type": "code",
      "source": [
        "message = ['@elonmusk had a terrible experience with a very pushy sales guy from tesla Stanford shop while shopping for model x']\n",
        "seq = tokenizer.texts_to_sequences(message)\n",
        "\n",
        "padded = pad_sequences(seq, maxlen=X.shape[1], dtype='int32', value=0)\n",
        "\n",
        "pred = model.predict(padded)\n",
        "\n",
        "labels =  [image3,image1,image2]\n",
        "\n",
        "labels[np.argmax(pred)]"
      ],
      "metadata": {
        "trusted": true,
        "id": "3xseemBHA2lI"
      },
      "execution_count": null,
      "outputs": []
    },
    {
      "cell_type": "code",
      "source": [
        "message = ['The local electronics industry is expected to remain stable amid layoff concerns surrounding Japanese electronics giants operating in the country, an official says.']\n",
        "seq = tokenizer.texts_to_sequences(message)\n",
        "\n",
        "padded = pad_sequences(seq, maxlen=X.shape[1], dtype='int32', value=0)\n",
        "\n",
        "pred = model.predict(padded)\n",
        "\n",
        "labels =  [image3,image1,image2]\n",
        "\n",
        "labels[np.argmax(pred)]"
      ],
      "metadata": {
        "trusted": true,
        "id": "KhJKxsxMA2lJ"
      },
      "execution_count": null,
      "outputs": []
    },
    {
      "cell_type": "code",
      "source": [
        "message = ['The local electronics industry is amid layoff concerns and last year has laid off tens of employees']\n",
        "seq = tokenizer.texts_to_sequences(message)\n",
        "\n",
        "padded = pad_sequences(seq, maxlen=X.shape[1], dtype='int32', value=0)\n",
        "\n",
        "pred = model.predict(padded)\n",
        "labels =  [image3,image1,image2]\n",
        "\n",
        "labels[np.argmax(pred)]"
      ],
      "metadata": {
        "trusted": true,
        "id": "GIPzKG23A2lJ"
      },
      "execution_count": null,
      "outputs": []
    },
    {
      "cell_type": "markdown",
      "source": [
        "References\n",
        "* [1] Artificial Inteligence, Machine Learning and Deep Learning by Mercury Learning and Informarion (Book)\n",
        "* [2] Source Information of NLP :https://monkeylearn.com/what-is-text-classification/\n",
        "* [3] Parameter doc2vec and  LSTM inspired  by : https://dl.acm.org/doi/10.1145/3406601.3406624\n",
        "* [4] (Bing Liu. Sentiment Analysis and Opinion Mining, Morgan & Claypool Publishers, May 2012.)"
      ],
      "metadata": {
        "papermill": {
          "duration": 0.090616,
          "end_time": "2020-10-05T01:21:31.367463",
          "exception": false,
          "start_time": "2020-10-05T01:21:31.276847",
          "status": "completed"
        },
        "tags": [],
        "id": "x0H6CowGA2lK"
      }
    }
  ]
}